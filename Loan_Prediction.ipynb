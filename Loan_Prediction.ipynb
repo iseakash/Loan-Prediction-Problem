{
  "nbformat": 4,
  "nbformat_minor": 0,
  "metadata": {
    "colab": {
      "name": "Untitled17.ipynb",
      "provenance": []
    },
    "kernelspec": {
      "name": "python3",
      "display_name": "Python 3"
    }
  },
  "cells": [
    {
      "cell_type": "markdown",
      "metadata": {
        "id": "djmdQk7aDlx3",
        "colab_type": "text"
      },
      "source": [
        "#Analytics Vidhya - Loan Prediction using XG Boost"
      ]
    },
    {
      "cell_type": "code",
      "metadata": {
        "id": "bqH0EWumO36w",
        "colab_type": "code",
        "colab": {}
      },
      "source": [
        "# Importing the libraries\n",
        "\n",
        "import numpy as np\n",
        "import matplotlib.pyplot as plt\n",
        "import pandas as pd"
      ],
      "execution_count": 43,
      "outputs": []
    },
    {
      "cell_type": "code",
      "metadata": {
        "id": "2CI3naaxPBOG",
        "colab_type": "code",
        "colab": {}
      },
      "source": [
        "pip install sklearn"
      ],
      "execution_count": null,
      "outputs": []
    },
    {
      "cell_type": "code",
      "metadata": {
        "id": "RXltcgsqO8hD",
        "colab_type": "code",
        "colab": {}
      },
      "source": [
        "# Importing the dataset\n",
        "\n",
        "dataset = pd.read_csv('train_ctrUa4K.csv')\n",
        "X = dataset.iloc[:, 1:12].values\n",
        "y = dataset.iloc[:, -1].values\n",
        "#print(X[1:5,:])"
      ],
      "execution_count": null,
      "outputs": []
    },
    {
      "cell_type": "code",
      "metadata": {
        "id": "HA2R353cO9J-",
        "colab_type": "code",
        "colab": {}
      },
      "source": [
        "# Taking care of missing data\n",
        "\n",
        "from sklearn.impute import SimpleImputer\n",
        "\n",
        "imputer = SimpleImputer(missing_values=np.nan, strategy='mean')\n",
        "imputer.fit(X[:, 5:10])\n",
        "X[:, 5:10] = imputer.transform(X[:, 5:10])\n",
        "\n",
        "imputerC = SimpleImputer(missing_values=np.nan, strategy='most_frequent')\n",
        "imputerC.fit(X[:, :5])\n",
        "X[:, :5] = imputerC.transform(X[:, :5])\n",
        "#print(X[1:5,:])"
      ],
      "execution_count": null,
      "outputs": []
    },
    {
      "cell_type": "code",
      "metadata": {
        "id": "hUbciSFkO9Ox",
        "colab_type": "code",
        "colab": {}
      },
      "source": [
        "# Encoding the Independent Variable\n",
        "\n",
        "from sklearn.compose import ColumnTransformer\n",
        "from sklearn.preprocessing import OneHotEncoder\n",
        "\n",
        "ct = ColumnTransformer(transformers=[('encoder', OneHotEncoder(), [0,1,2,3,4,10])], remainder='passthrough')\n",
        "X = np.array(ct.fit_transform(X))\n",
        "#print(X[1:5,:])"
      ],
      "execution_count": null,
      "outputs": []
    },
    {
      "cell_type": "code",
      "metadata": {
        "id": "BtG6_fmqO9SP",
        "colab_type": "code",
        "colab": {}
      },
      "source": [
        "# Encoding the Dependent Variable\n",
        "\n",
        "from sklearn.preprocessing import LabelEncoder\n",
        "\n",
        "le = LabelEncoder()\n",
        "y = le.fit_transform(y)\n",
        "#print(y[1:5])"
      ],
      "execution_count": null,
      "outputs": []
    },
    {
      "cell_type": "code",
      "metadata": {
        "id": "8ZxQWpp6O9VM",
        "colab_type": "code",
        "colab": {}
      },
      "source": [
        "# Splitting the dataset into the Training set and Test set\n",
        "\n",
        "from sklearn.model_selection import train_test_split\n",
        "\n",
        "X_train, X_test, y_train, y_test = train_test_split(X, y, test_size = 0.2, random_state = 10)"
      ],
      "execution_count": 98,
      "outputs": []
    },
    {
      "cell_type": "code",
      "metadata": {
        "id": "bKUKzuc0O9X3",
        "colab_type": "code",
        "colab": {}
      },
      "source": [
        "# Feature Scaling\n",
        "\n",
        "from sklearn.preprocessing import StandardScaler\n",
        "\n",
        "sc = StandardScaler()\n",
        "X_train[:,-5:-1] = sc.fit_transform(X_train[:,-5:-1])\n",
        "X_test[:,-5:-1] = sc.transform(X_test[:,-5:-1])\n",
        "#print(X_train)\n",
        "#print(X_test)"
      ],
      "execution_count": null,
      "outputs": []
    },
    {
      "cell_type": "code",
      "metadata": {
        "id": "-rcAZkJpBanT",
        "colab_type": "code",
        "colab": {}
      },
      "source": [
        "# Training XGBoost on the Training set\n",
        "\n",
        "from xgboost import XGBClassifier\n",
        "\n",
        "classifier = XGBClassifier()\n",
        "classifier.fit(X_train, y_train)"
      ],
      "execution_count": null,
      "outputs": []
    },
    {
      "cell_type": "code",
      "metadata": {
        "id": "Eh4O1IH2O9eI",
        "colab_type": "code",
        "colab": {}
      },
      "source": [
        "# Predicting the Test set results\n",
        "\n",
        "y_pred = classifier.predict(X_test)"
      ],
      "execution_count": 101,
      "outputs": []
    },
    {
      "cell_type": "code",
      "metadata": {
        "id": "wkRQQZiZO9jo",
        "colab_type": "code",
        "colab": {}
      },
      "source": [
        "from sklearn.metrics import confusion_matrix, accuracy_score\n",
        "\n",
        "cm = confusion_matrix(y_test, y_pred)\n",
        "print(cm)\n",
        "accuracy_score(y_test, y_pred)"
      ],
      "execution_count": null,
      "outputs": []
    },
    {
      "cell_type": "markdown",
      "metadata": {
        "id": "PPGtarPAEpO6",
        "colab_type": "text"
      },
      "source": [
        "# Applying on Sample Data for Submission"
      ]
    },
    {
      "cell_type": "code",
      "metadata": {
        "id": "SwJRucg0PUIp",
        "colab_type": "code",
        "colab": {}
      },
      "source": [
        "# Importing the Test dataset\n",
        "\n",
        "dataset1 = pd.read_csv('test_lAUu6dG.csv')\n",
        "X_test_o = dataset1.iloc[:, 1:12].values\n",
        "#print(X_test_o[1:5,:])"
      ],
      "execution_count": null,
      "outputs": []
    },
    {
      "cell_type": "code",
      "metadata": {
        "id": "OOyINKmsPUST",
        "colab_type": "code",
        "colab": {}
      },
      "source": [
        "# Taking care of missing data\n",
        "\n",
        "X_test_o[:, 5:10] = imputer.transform(X_test_o[:, 5:10])\n",
        "X_test_o[:, :5] = imputerC.transform(X_test_o[:, :5])\n",
        "#print(X_test_o[1:5,:])"
      ],
      "execution_count": null,
      "outputs": []
    },
    {
      "cell_type": "code",
      "metadata": {
        "id": "WejZsmRBPUVm",
        "colab_type": "code",
        "colab": {}
      },
      "source": [
        "# Encoding the Independent Variable\n",
        "\n",
        "X_test_o = np.array(ct.fit_transform(X_test_o))\n",
        "#print(X_test_o[1,-5:-1])"
      ],
      "execution_count": null,
      "outputs": []
    },
    {
      "cell_type": "code",
      "metadata": {
        "id": "Zwe9qthx--pF",
        "colab_type": "code",
        "colab": {}
      },
      "source": [
        "# Predicting the Test set results\n",
        "\n",
        "y_pred_o = classifier.predict(X_test_o)\n",
        "print(y_pred_o)"
      ],
      "execution_count": null,
      "outputs": []
    },
    {
      "cell_type": "code",
      "metadata": {
        "id": "ZZ62k3__Pahx",
        "colab_type": "code",
        "colab": {}
      },
      "source": [
        "#Extracting Output from Google Collabaratory\n",
        "\n",
        "output = [\"N\"]*len(y_pred_o)\n",
        "for i in range(len(y_pred_o)):\n",
        "  if y_pred_o.values[i] == 0:\n",
        "    output[i] = \"N\"\n",
        "  else:\n",
        "    output[i] = \"Y\"\n",
        "\n",
        "y_pred_o = pd.DataFrame(output)\n",
        "y_pred_o.to_csv('name_csv_file.csv')"
      ],
      "execution_count": 112,
      "outputs": []
    }
  ]
}